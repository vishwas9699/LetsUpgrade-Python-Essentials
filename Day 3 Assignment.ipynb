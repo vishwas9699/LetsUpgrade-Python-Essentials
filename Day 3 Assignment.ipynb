{
 "cells": [
  {
   "cell_type": "markdown",
   "metadata": {},
   "source": [
    "# Question 1\n",
    "You all are Pilots, you want to land a plane safely, so altitude required for landing a plane is\n",
    "1000ft, it it is less than tell pilot to land the plane, or it is more than that but less than 5000ft ask\n",
    "the pilot to “come down to 1000ft”, else if it more than 5000ft ask the pilot to “go around and try\n",
    "later”"
   ]
  },
  {
   "cell_type": "code",
   "execution_count": 12,
   "metadata": {},
   "outputs": [
    {
     "name": "stdout",
     "output_type": "stream",
     "text": [
      "Enter Altitude:- 60000\n",
      "go around and try later\n"
     ]
    }
   ],
   "source": [
    "Altitude=int(input(\"Enter Altitude:- \"))\n",
    "if Altitude <= 1000:\n",
    "    print(\"Safe to land\")\n",
    "elif Altitude>=1000 and Altitude<=5000:\n",
    "    print(\"come down to 1000ft\")\n",
    "else:\n",
    "    print(\"go around and try later\")"
   ]
  },
  {
   "cell_type": "markdown",
   "metadata": {},
   "source": [
    "# Question 2\n",
    "Using for loop please print all the prime numbers between 1- 200 using FOR LOOP AND RANGE function."
   ]
  },
  {
   "cell_type": "code",
   "execution_count": 10,
   "metadata": {},
   "outputs": [
    {
     "name": "stdout",
     "output_type": "stream",
     "text": [
      "The Prime Number is 2\n",
      "The Prime Number is 3\n",
      "The Prime Number is 5\n",
      "The Prime Number is 7\n",
      "The Prime Number is 11\n",
      "The Prime Number is 13\n",
      "The Prime Number is 17\n",
      "The Prime Number is 19\n",
      "The Prime Number is 23\n",
      "The Prime Number is 29\n",
      "The Prime Number is 31\n",
      "The Prime Number is 37\n",
      "The Prime Number is 41\n",
      "The Prime Number is 43\n",
      "The Prime Number is 47\n",
      "The Prime Number is 53\n",
      "The Prime Number is 59\n",
      "The Prime Number is 61\n",
      "The Prime Number is 67\n",
      "The Prime Number is 71\n",
      "The Prime Number is 73\n",
      "The Prime Number is 79\n",
      "The Prime Number is 83\n",
      "The Prime Number is 89\n",
      "The Prime Number is 97\n",
      "The Prime Number is 101\n",
      "The Prime Number is 103\n",
      "The Prime Number is 107\n",
      "The Prime Number is 109\n",
      "The Prime Number is 113\n",
      "The Prime Number is 127\n",
      "The Prime Number is 131\n",
      "The Prime Number is 137\n",
      "The Prime Number is 139\n",
      "The Prime Number is 149\n",
      "The Prime Number is 151\n",
      "The Prime Number is 157\n",
      "The Prime Number is 163\n",
      "The Prime Number is 167\n",
      "The Prime Number is 173\n",
      "The Prime Number is 179\n",
      "The Prime Number is 181\n",
      "The Prime Number is 191\n",
      "The Prime Number is 193\n",
      "The Prime Number is 197\n",
      "The Prime Number is 199\n"
     ]
    }
   ],
   "source": [
    "for number in range(1,200):\n",
    "    if number > 1:\n",
    "        for i in range(2,number):\n",
    "            if (number%i)==0:\n",
    "                break\n",
    "        else:\n",
    "            print(\"The Prime Number is\",number)"
   ]
  },
  {
   "cell_type": "code",
   "execution_count": null,
   "metadata": {},
   "outputs": [],
   "source": []
  }
 ],
 "metadata": {
  "kernelspec": {
   "display_name": "Python 3",
   "language": "python",
   "name": "python3"
  },
  "language_info": {
   "codemirror_mode": {
    "name": "ipython",
    "version": 3
   },
   "file_extension": ".py",
   "mimetype": "text/x-python",
   "name": "python",
   "nbconvert_exporter": "python",
   "pygments_lexer": "ipython3",
   "version": "3.8.3"
  }
 },
 "nbformat": 4,
 "nbformat_minor": 4
}
