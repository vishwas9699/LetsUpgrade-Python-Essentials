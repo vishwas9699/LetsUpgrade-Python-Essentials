{
 "cells": [
  {
   "cell_type": "markdown",
   "metadata": {},
   "source": [
    "# Question 1\n",
    "Write a decorator function for taking input from you any kind of function you want to build.\n",
    "for eg : you make a fibonacci series function, in which your input range is been defined by the decorator program input"
   ]
  },
  {
   "cell_type": "code",
   "execution_count": 1,
   "metadata": {},
   "outputs": [],
   "source": [
    "def Input(calculate):    \n",
    "    def func():    \n",
    "        a = int(input(\"First Number - \"))        \n",
    "        b = int(input(\"Second Number - \"))        \n",
    "        calculate(a,b)   \n",
    "    \n",
    "    return func"
   ]
  },
  {
   "cell_type": "code",
   "execution_count": 9,
   "metadata": {},
   "outputs": [],
   "source": [
    "@Input\n",
    "def Odd(start, last):    \n",
    "    print(\"Odd numbers for the range\",start,\"to\",last,\"are :\\n\")\n",
    "    for n in range(start, last + 1):       \n",
    "        if n % 2 != 0:            \n",
    "            print(n, end = \" \")"
   ]
  },
  {
   "cell_type": "code",
   "execution_count": 10,
   "metadata": {},
   "outputs": [
    {
     "name": "stdout",
     "output_type": "stream",
     "text": [
      "First Number - 102\n",
      "Second Number - 256\n",
      "Odd numbers for the range 102 to 256 are :\n",
      "\n",
      "103 105 107 109 111 113 115 117 119 121 123 125 127 129 131 133 135 137 139 141 143 145 147 149 151 153 155 157 159 161 163 165 167 169 171 173 175 177 179 181 183 185 187 189 191 193 195 197 199 201 203 205 207 209 211 213 215 217 219 221 223 225 227 229 231 233 235 237 239 241 243 245 247 249 251 253 255 "
     ]
    }
   ],
   "source": [
    "Odd()"
   ]
  },
  {
   "cell_type": "markdown",
   "metadata": {},
   "source": [
    "# Question 2\n",
    "For this challenge you need to develop a Python program to open a file in read only mode and try\n",
    "writing something to it and handle the subsequent errors using Exception Handling."
   ]
  },
  {
   "cell_type": "code",
   "execution_count": 5,
   "metadata": {},
   "outputs": [
    {
     "name": "stdout",
     "output_type": "stream",
     "text": [
      "Writing test.txt\n"
     ]
    }
   ],
   "source": [
    "%%writefile test.txt\n",
    "\n",
    "Python is soo cool...."
   ]
  },
  {
   "cell_type": "code",
   "execution_count": 6,
   "metadata": {},
   "outputs": [
    {
     "name": "stdout",
     "output_type": "stream",
     "text": [
      "Error has been occured\n",
      "Error message is : not writable\n"
     ]
    }
   ],
   "source": [
    "try:    \n",
    "    file = open(\"test.txt\",\"r\")    \n",
    "    file.write(\"Hello World..!!\")    \n",
    "    print(\"Changes made to the original file\")\n",
    "    \n",
    "except Exception as ex:    \n",
    "    print(\"Error has been occured\")    \n",
    "    print(\"Error message is :\",ex)"
   ]
  },
  {
   "cell_type": "code",
   "execution_count": null,
   "metadata": {},
   "outputs": [],
   "source": []
  }
 ],
 "metadata": {
  "kernelspec": {
   "display_name": "Python 3",
   "language": "python",
   "name": "python3"
  },
  "language_info": {
   "codemirror_mode": {
    "name": "ipython",
    "version": 3
   },
   "file_extension": ".py",
   "mimetype": "text/x-python",
   "name": "python",
   "nbconvert_exporter": "python",
   "pygments_lexer": "ipython3",
   "version": "3.8.3"
  }
 },
 "nbformat": 4,
 "nbformat_minor": 4
}
