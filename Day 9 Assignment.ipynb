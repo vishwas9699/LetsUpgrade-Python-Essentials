{
 "cells": [
  {
   "cell_type": "markdown",
   "metadata": {},
   "source": [
    "# Question 1\n",
    "Write a python Function for finding is a given number prime or not and do Unit Testing on it using\n",
    "PyLint and Unittest Library."
   ]
  },
  {
   "cell_type": "code",
   "execution_count": 35,
   "metadata": {},
   "outputs": [
    {
     "name": "stdout",
     "output_type": "stream",
     "text": [
      "Writing prime_check.py\n"
     ]
    }
   ],
   "source": [
    "%%writefile prime_check.py\n",
    "'''\n",
    "This is a prime number check library\n",
    "'''\n",
    "def is_prime(num):\n",
    "    '''\n",
    "    This is a function for checking prime number\n",
    "    '''\n",
    "    count = 0\n",
    "    for i in range(1, num+1):\n",
    "        if num%i == 0:\n",
    "            count += 1\n",
    "    if count == 2:\n",
    "        return True\n",
    "    return False"
   ]
  },
  {
   "cell_type": "code",
   "execution_count": 36,
   "metadata": {},
   "outputs": [
    {
     "name": "stdout",
     "output_type": "stream",
     "text": [
      "\n",
      "------------------------------------\n",
      "\n",
      "Your code has been rated at 10.00/10\n",
      "\n",
      "\n",
      "\n"
     ]
    }
   ],
   "source": [
    "! pylint \"prime_check.py\""
   ]
  },
  {
   "cell_type": "code",
   "execution_count": 38,
   "metadata": {},
   "outputs": [
    {
     "name": "stdout",
     "output_type": "stream",
     "text": [
      "Enter a number to check: 7\n"
     ]
    },
    {
     "data": {
      "text/plain": [
       "True"
      ]
     },
     "execution_count": 38,
     "metadata": {},
     "output_type": "execute_result"
    }
   ],
   "source": [
    "import prime_check\n",
    "\n",
    "n = int(input(\"Enter a number to check: \"))\n",
    "prime_check.is_prime(n)"
   ]
  },
  {
   "cell_type": "code",
   "execution_count": 39,
   "metadata": {},
   "outputs": [
    {
     "name": "stdout",
     "output_type": "stream",
     "text": [
      "Writing prime.py\n"
     ]
    }
   ],
   "source": [
    "\n",
    "%%writefile prime.py\n",
    "\n",
    "def isPrime(n):\n",
    "    count = 0\n",
    "    for i in range(1, n+1):\n",
    "        if n%i==0:\n",
    "            count += 1\n",
    "    if count == 2:\n",
    "        return True\n",
    "    else:\n",
    "        return False"
   ]
  },
  {
   "cell_type": "code",
   "execution_count": 42,
   "metadata": {},
   "outputs": [
    {
     "data": {
      "text/plain": [
       "True"
      ]
     },
     "execution_count": 42,
     "metadata": {},
     "output_type": "execute_result"
    }
   ],
   "source": [
    "import prime\n",
    "\n",
    "prime.isPrime(67)"
   ]
  },
  {
   "cell_type": "code",
   "execution_count": 43,
   "metadata": {},
   "outputs": [
    {
     "name": "stdout",
     "output_type": "stream",
     "text": [
      "Writing testPrime.py\n"
     ]
    }
   ],
   "source": [
    "\n",
    "%%writefile testPrime.py\n",
    "\n",
    "import unittest\n",
    "import prime\n",
    "\n",
    "class PrimeCheck(unittest.TestCase):\n",
    "    \n",
    "    def testPrimeNumbers(self):\n",
    "        num = 79\n",
    "        result = prime.isPrime(num)\n",
    "        self.assertTrue(result)\n",
    "    \n",
    "    def testNonPrimeNumbers(self):\n",
    "        num = 169\n",
    "        result = prime.isPrime(num)\n",
    "        self.assertFalse(result)\n",
    "        \n",
    "if __name__==\"__main__\":\n",
    "    unittest.main()"
   ]
  },
  {
   "cell_type": "code",
   "execution_count": 44,
   "metadata": {},
   "outputs": [
    {
     "name": "stderr",
     "output_type": "stream",
     "text": [
      "..\n",
      "----------------------------------------------------------------------\n",
      "Ran 2 tests in 0.000s\n",
      "\n",
      "OK\n"
     ]
    }
   ],
   "source": [
    "! python testPrime.py"
   ]
  },
  {
   "cell_type": "markdown",
   "metadata": {},
   "source": [
    "# Question 2\n",
    "Make a small generator program for returning armstrong numbers in between 1-1000 in a\n",
    "generator object."
   ]
  },
  {
   "cell_type": "code",
   "execution_count": 30,
   "metadata": {},
   "outputs": [],
   "source": [
    "lst = list(range(1,1001))\n",
    "\n",
    "def armstrong_number(lst):\n",
    "    for i in lst:\n",
    "        a=i\n",
    "        sum1=0\n",
    "        while(a>0):\n",
    "            m = a%10\n",
    "            sum1 = sum1 + (m**3)\n",
    "            a = a//10\n",
    "        if(i == sum1):\n",
    "            yield i"
   ]
  },
  {
   "cell_type": "code",
   "execution_count": 33,
   "metadata": {},
   "outputs": [
    {
     "data": {
      "text/plain": [
       "<generator object armstrong_number at 0x000001E45798B660>"
      ]
     },
     "execution_count": 33,
     "metadata": {},
     "output_type": "execute_result"
    }
   ],
   "source": [
    "armstrong_number(lst)"
   ]
  },
  {
   "cell_type": "code",
   "execution_count": 34,
   "metadata": {},
   "outputs": [
    {
     "data": {
      "text/plain": [
       "[1, 153, 370, 371, 407]"
      ]
     },
     "execution_count": 34,
     "metadata": {},
     "output_type": "execute_result"
    }
   ],
   "source": [
    "list(armstrong_number(lst))"
   ]
  },
  {
   "cell_type": "code",
   "execution_count": null,
   "metadata": {},
   "outputs": [],
   "source": []
  }
 ],
 "metadata": {
  "kernelspec": {
   "display_name": "Python 3",
   "language": "python",
   "name": "python3"
  },
  "language_info": {
   "codemirror_mode": {
    "name": "ipython",
    "version": 3
   },
   "file_extension": ".py",
   "mimetype": "text/x-python",
   "name": "python",
   "nbconvert_exporter": "python",
   "pygments_lexer": "ipython3",
   "version": "3.8.3"
  }
 },
 "nbformat": 4,
 "nbformat_minor": 4
}
